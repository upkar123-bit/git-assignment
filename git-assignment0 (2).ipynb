{
  "nbformat": 4,
  "nbformat_minor": 0,
  "metadata": {
    "colab": {
      "provenance": []
    },
    "kernelspec": {
      "name": "python3",
      "display_name": "Python 3"
    },
    "language_info": {
      "name": "python"
    }
  },
  "cells": [
    {
      "cell_type": "code",
      "execution_count": null,
      "metadata": {
        "id": "9ykutgCJVSuh"
      },
      "outputs": [],
      "source": []
    },
    {
      "cell_type": "markdown",
      "source": [
        "1. NAME : UPKAR\n",
        "2. COURSE NAME : DEVOPS AND CLOUD COMPUTING\n",
        "3. ASSIGNMENT : GIT\n",
        "4. SUBMISSION DATE : 20TH OF JUNE 2025\n"
      ],
      "metadata": {
        "id": "QWNSsWKYXIGF"
      }
    },
    {
      "cell_type": "markdown",
      "source": [
        "1. Create a new folder\n",
        "2. Put the following files in the folder\n",
        "   *  Code.txt\n",
        "   *  Log.txt\n",
        "   *  output.txt\n",
        "3. Stage the Code.txt and Output.txt files\n",
        "4. Commit them\n",
        "5. And finally push them to GitHub\n",
        "\n",
        "\n",
        "\n"
      ],
      "metadata": {
        "id": "vWewquaiX1P6"
      }
    },
    {
      "cell_type": "code",
      "source": [
        "'''bash\n",
        "mkdir mygit\n",
        "cd mygit\n",
        "touch code.txt file1.txt output1.txt\n",
        "git add code.txt and output.txt\n",
        "git commit -m \"Add Code.txt and output.txt\"\n",
        "git push git remote add origin url-of-your-repo\n",
        "git branch -M main\n",
        "git push -u origin main\n",
        "\n",
        "'''"
      ],
      "metadata": {
        "id": "9DQ_mtKUY0YL"
      },
      "execution_count": null,
      "outputs": []
    },
    {
      "cell_type": "markdown",
      "source": [
        "**Tasks to Be Performed:**\n",
        "1. Create a Git working directory with feature1.txt and feature2.txt in the master branch\n",
        "2. Create 3 branches develop, feature1 and feature2\n",
        "3. In develop branch create develop.txt, do not stage or commit it\n",
        "4. Stash this file and check out to feature1 branch\n",
        "5. Create new.txt file in feature1 branch, stage and commit this file\n",
        "6. Checkout to develop, unstash this file and commit\n",
        "7.  Please submit all the Git commands used to do the above step\n"
      ],
      "metadata": {
        "id": "fJO4diObjrNu"
      }
    },
    {
      "cell_type": "code",
      "source": [
        "'''bash\n",
        "#step1\n",
        "\n",
        "mkdir working-directory\n",
        "cd working-directory\n",
        "gut init\n",
        "git checkout -b master\n",
        "touch feature1.txt feature2.txt\n",
        "#step2\n",
        "\n",
        "git branch develop\n",
        "git branch feature1\n",
        "git branch feature2\n",
        "#step3\n",
        "\n",
        "git checkout develop\n",
        "touch develop.txt\n",
        "#step4\n",
        "git stash\n",
        "#step5\n",
        "\n",
        "git checkout feature1\n",
        "touch new.txt\n",
        "git add new.txt\n",
        "git commit -m \"feature 1 new.txt \"\n",
        "#step6\n",
        "\n",
        "git checkout develop\n",
        "git stash apply\n",
        "git add develop.txt\n",
        "git commit -m \"Add develop.txt after unstashing\"\n",
        "\n",
        "\n",
        "\n",
        "'''"
      ],
      "metadata": {
        "id": "yoXcpd2blf3p"
      },
      "execution_count": null,
      "outputs": []
    },
    {
      "cell_type": "markdown",
      "source": [
        ". **Tasks to Be Performed:**\n",
        "\n",
        "1.  Create a Git working directory, with the following branches:\n",
        "   *   Develop\n",
        "   *   F1\n",
        "   *   F2\n",
        "2.  In the master branch, commit main.txt file\n",
        "3. Put develop.txt in develop branch, f1.txt and f2.txt in f1 and f2 respectively\n",
        "4. Push all these branches to GitHub\n",
        "5. On local delete f2 branch\n",
        "6. Delete the same branch on GitHub as well\n",
        "\n",
        "                \n"
      ],
      "metadata": {
        "id": "MtZRS60moXzb"
      }
    },
    {
      "cell_type": "code",
      "source": [
        "'''bash\n",
        "step 1\n",
        "mkdir git-working-directory\n",
        "cd git-working-directory\n",
        "git init\n",
        "git branch develop\n",
        "git branch f1\n",
        "git branch f2\n",
        "step 2\n",
        "git checkout -b master\n",
        "touch main.txt\n",
        "git add main.txt\n",
        "git commit -m \"Add main.txt to master\"\n",
        "step 3\n",
        "git checkout develop\n",
        "touch develop.txt\n",
        "git add develop.txt\n",
        "git commit -m \"adding develop.txt to develop branch \"\n",
        "git checkout f1\n",
        "touch f1.txt\n",
        "git add f1.txt\n",
        "git commit -m \"adding f1.txt to f1 branch \"\n",
        "git checkout -b f2\n",
        "touch f2.txt\n",
        "git add f2.txt\n",
        "git commit -m \"adding f2.txt to f2\n",
        "step4\n",
        "git remote add origin url-of-repo\n",
        "git push -u origin develop\n",
        "git push -u origin f1\n",
        "git push -u origin f2\n",
        "step 5\n",
        "git branch -d f2\n",
        "step 6\n",
        "git push origin --delete f2\n",
        "\n",
        "\n",
        "'''"
      ],
      "metadata": {
        "id": "7IJNYhFoq1Bk"
      },
      "execution_count": null,
      "outputs": []
    },
    {
      "cell_type": "markdown",
      "source": [
        ". **Tasks to Be Performed**\n",
        "1. Put master.txt on master branch, stage and commit\n",
        "\n",
        "2. Create 3 branches: public 1, public 2 and private\n",
        "\n",
        "3. Put public1.txt on public 1 branch, stage and commit\n",
        "\n",
        "4. Merge public 1 on master branch\n",
        "\n",
        "5. Merge public 2 on master branch\n",
        "\n",
        "6. Edit master.txt on private branch, stage and commit\n",
        "\n",
        "7. Now update branch public 1 and public 2 with new master code in private\n",
        "\n",
        "8. Also update new master code on master\n",
        "\n",
        "9. Finally update all the code on the private branch"
      ],
      "metadata": {
        "id": "qS9wdBGKn-TB"
      }
    },
    {
      "cell_type": "code",
      "source": [
        "'''bash\n",
        "mkdir task4\n",
        "cd task4\n",
        "git init\n",
        "touch master.txt\n",
        "git add master.txt\n",
        "git commit -m \"Add master.txt\"\n",
        "step2\n",
        "git branch public1\n",
        "git branch public2\n",
        "git branch private\n",
        "step3\n",
        "git checkout public1\n",
        "touch public1.txt\n",
        "git add public1.txt\n",
        "git commit -m \"Add public1.txt\"\n",
        "step4\n",
        "git checkout master\n",
        "git merge public1\n",
        "step5\n",
        "git checkout master\n",
        "git merge public2\n",
        "step 6\n",
        "git checkout private\n",
        "echo \"update the master.txt\" >> master.txt\n",
        "git add master.txt\n",
        "git commit -m \"editi is done\"\n",
        "step 7\n",
        "git checkout public1\n",
        "git merge master\n",
        "git checkout public2\n",
        "git merge master\n",
        "step 8\n",
        "git checkout master\n",
        "git merge private\n",
        "step 9\n",
        "git checkout private\n",
        "git merge master\n",
        "\n",
        "\n",
        "\n",
        "\n",
        "'''"
      ],
      "metadata": {
        "id": "RkoTQqaep3vR"
      },
      "execution_count": null,
      "outputs": []
    },
    {
      "cell_type": "markdown",
      "source": [
        "**Tasks to Be Performed**\n",
        "\n",
        "1. Create a Git Flow workflow architecture on Git\n",
        "\n",
        "2. Create all the required branches\n",
        "\n",
        "3. starting from e feature branch, push the branch to the master, following the architecture\n",
        "\n",
        "4. Push an urgent.txt on master using hotfix"
      ],
      "metadata": {
        "id": "-Pq136hqVEGF"
      }
    },
    {
      "cell_type": "code",
      "source": [
        "'''bash\n",
        "mkdir git-flow\n",
        "cd git-flow\n",
        "git init\n",
        "touch main.txt\n",
        "git add main.txt\n",
        "git commit -m \"adding main \"\n",
        "git checkout -b develop\n",
        "git checkout feature\n",
        "touch feature.txt\n",
        "echo \"This is a new feature\" > feature.txt\n",
        "git add feature.txt\n",
        "git commit -m \"Adding feature.txt in feature branch\"\n",
        "git checkout develop\n",
        "git merge feature\n",
        "git checkout release/v1.0\n",
        "git add release\n",
        "git commit -m \"final release \"\n",
        "git checkout master\n",
        "git merge release/v1.0\n",
        "git tag -a v1.0 -m\n",
        "git checkout develop\n",
        "git merge release/v1.0\n",
        "git remote add origin url-of-repo\n",
        "\n",
        "git push -u origin master\n",
        "git push -u origin develop\n",
        "git push -u origin feature\n",
        "git push -u origin release/v1.0\n",
        "\n",
        "git checkout master\n",
        "git checkout -b hotfix\n",
        "touch urgentfix.txt\n",
        "echo\"critical fix of urgent file\" > urgent.txt\n",
        "git add urgent.txt\n",
        "git commit -m \"adding urgent.txt\"\n",
        "git push origin master\n",
        "git merge hotfix\n",
        "git tag -a v1.0.1\n",
        "git checkout develop\n",
        "git merge hotfix\n",
        "\n",
        "git push origin master\n",
        "git push origin develop\n",
        "git push origin hotfix\n",
        "\n",
        "\n",
        "\n",
        "\n",
        "\n",
        "\n",
        "'''"
      ],
      "metadata": {
        "id": "9-TFs15VVMKW"
      },
      "execution_count": null,
      "outputs": []
    }
  ]
}
